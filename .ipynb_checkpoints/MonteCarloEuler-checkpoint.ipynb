{
 "cells": [
  {
   "cell_type": "code",
   "execution_count": 117,
   "metadata": {},
   "outputs": [
    {
     "data": {
      "text/plain": [
       "monteE (generic function with 1 method)"
      ]
     },
     "execution_count": 117,
     "metadata": {},
     "output_type": "execute_result"
    }
   ],
   "source": [
    "function monteE(size,n_iter)\n",
    "    dist=1:size\n",
    "    success=0\n",
    "    total=0\n",
    "    for i ∈ 1:n_iter\n",
    "        trials=rand(dist, (size,1))\n",
    "        for k in dist\n",
    "            if k ∉ trials\n",
    "                success+=1\n",
    "            end\n",
    "            total+=1\n",
    "        end\n",
    "    end\n",
    "    println(1/(success/total))\n",
    "    println(1/(success/total)-ℯ)\n",
    "end"
   ]
  },
  {
   "cell_type": "code",
   "execution_count": 118,
   "metadata": {},
   "outputs": [
    {
     "name": "stdout",
     "output_type": "stream",
     "text": [
      "2.677376171352075\n",
      "-0.04090565710697014\n"
     ]
    }
   ],
   "source": [
    "monteE(10^4,1)"
   ]
  },
  {
   "cell_type": "code",
   "execution_count": 119,
   "metadata": {},
   "outputs": [
    {
     "data": {
      "text/plain": [
       "seriesE (generic function with 1 method)"
      ]
     },
     "execution_count": 119,
     "metadata": {},
     "output_type": "execute_result"
    }
   ],
   "source": [
    "function seriesE(n_terms)\n",
    "    sum::BigFloat=0\n",
    "    for i in 0:n_terms\n",
    "        sum+=1/factorial(big(i))\n",
    "    end\n",
    "    println(sum)\n",
    "    println(sum-ℯ)\n",
    "end"
   ]
  },
  {
   "cell_type": "code",
   "execution_count": 120,
   "metadata": {},
   "outputs": [
    {
     "name": "stdout",
     "output_type": "stream",
     "text": [
      "2.718281828459045235360287471352662497757247093699959574966967627724076630353416\n",
      "-1.381786968815111140061816298048063931378560058309805021603792555226974688505988e-76\n"
     ]
    }
   ],
   "source": [
    "seriesE(10000)"
   ]
  },
  {
   "cell_type": "code",
   "execution_count": null,
   "metadata": {},
   "outputs": [],
   "source": []
  }
 ],
 "metadata": {
  "kernelspec": {
   "display_name": "Julia 1.5.2",
   "language": "julia",
   "name": "julia-1.5"
  },
  "language_info": {
   "file_extension": ".jl",
   "mimetype": "application/julia",
   "name": "julia",
   "version": "1.5.2"
  }
 },
 "nbformat": 4,
 "nbformat_minor": 4
}
