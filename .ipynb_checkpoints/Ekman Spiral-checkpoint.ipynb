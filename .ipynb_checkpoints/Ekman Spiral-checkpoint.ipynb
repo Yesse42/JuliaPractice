{
 "cells": [
  {
   "cell_type": "code",
   "execution_count": 1,
   "metadata": {},
   "outputs": [],
   "source": [
    "using Oceananigans\n",
    "using Oceananigans.OutputWriters, Oceananigans.Fields\n",
    "using Oceananigans.Utils:day, hour, minute, second\n",
    "using Plots, JLD2, Printf, Oceananigans.Grids"
   ]
  },
  {
   "cell_type": "code",
   "execution_count": null,
   "metadata": {},
   "outputs": [],
   "source": [
    "grid1 = RegularCartesianGrid(size=(50, 50, 120), x=(-50,50), y=(-50,50), z=(-240,0),topology = (Periodic, Periodic, Bounded))\n",
    "\n",
    "utop_bc=FluxBoundaryCondition(0.014300000000000005)\n",
    "\n",
    "u_bcs=UVelocityBoundaryConditions(grid1, top = utop_bc, bottom = ValueBoundaryCondition(0))\n",
    "\n",
    "\n",
    "model1=IncompressibleModel(grid=grid1,architecture = CPU(),float_type=Float64,\n",
    "        boundary_conditions=(u=u_bcs,),coriolis = BetaPlane(rotation_rate=7.292115e-5, latitude=80, radius=6371e3),\n",
    "        closure=IsotropicDiffusivity(ν=1.9e-3, κ=5e-7),\n",
    "        timestepper= :RungeKutta3)\n",
    "\n",
    "@inline randvel(x,y,z)=0.05randn()\n",
    "set!(model1,u=randvel,v=randvel,w=randvel)\n",
    "\n",
    "wizard=TimeStepWizard(cfl=0.1, Δt=0.1, max_Δt=3600.)\n",
    "\n",
    "simulation = Simulation(model1, Δt=wizard, stop_time=2day, iteration_interval=40)\n",
    "\n",
    "function init_save_some_metadata!(file, model)\n",
    "    file[\"author\"] = \"oofs\"\n",
    "    return nothing\n",
    "end\n",
    "\n",
    "simulation.output_writers[:velocities] = JLD2OutputWriter(model1, model1.velocities,\n",
    "                                                          prefix = \"EkmanData\",\n",
    "                                                          schedule = TimeInterval(5minute),\n",
    "                                                          init = init_save_some_metadata!)\n",
    "\n",
    "run!(simulation)"
   ]
  },
  {
   "cell_type": "code",
   "execution_count": 2,
   "metadata": {},
   "outputs": [
    {
     "name": "stderr",
     "output_type": "stream",
     "text": [
      "┌ Warning: Opening file with JLD2.MmapIO failed, falling back to IOStream\n",
      "└ @ JLD2 /Users/jerobinett/.julia/packages/JLD2/eU405/src/JLD2.jl:196\n"
     ]
    },
    {
     "ename": "LoadError",
     "evalue": "SystemError: opening file \"EkmanData.jld2\": No such file or directory",
     "output_type": "error",
     "traceback": [
      "SystemError: opening file \"EkmanData.jld2\": No such file or directory",
      "",
      "Stacktrace:",
      " [1] systemerror(::String, ::Int32; extrainfo::Nothing) at ./error.jl:168",
      " [2] #systemerror#48 at ./error.jl:167 [inlined]",
      " [3] systemerror at ./error.jl:167 [inlined]",
      " [4] open(::String; lock::Bool, read::Bool, write::Bool, create::Bool, truncate::Bool, append::Bool) at ./iostream.jl:284",
      " [5] openfile at /Users/jerobinett/.julia/packages/JLD2/eU405/src/JLD2.jl:186 [inlined]",
      " [6] openfile(::Type{T} where T, ::String, ::Bool, ::Bool, ::Bool, ::Type{T} where T) at /Users/jerobinett/.julia/packages/JLD2/eU405/src/JLD2.jl:197",
      " [7] jldopen(::String, ::Bool, ::Bool, ::Bool, ::Type{JLD2.MmapIO}; fallback::Type{IOStream}, compress::Bool, mmaparrays::Bool) at /Users/jerobinett/.julia/packages/JLD2/eU405/src/JLD2.jl:249",
      " [8] jldopen(::String, ::Bool, ::Bool, ::Bool, ::Type{JLD2.MmapIO}) at /Users/jerobinett/.julia/packages/JLD2/eU405/src/JLD2.jl:213",
      " [9] jldopen(::String, ::String; iotype::Type{T} where T, kwargs::Base.Iterators.Pairs{Union{},Union{},Tuple{},NamedTuple{(),Tuple{}}}) at /Users/jerobinett/.julia/packages/JLD2/eU405/src/JLD2.jl:305",
      " [10] jldopen at /Users/jerobinett/.julia/packages/JLD2/eU405/src/JLD2.jl:300 [inlined] (repeats 2 times)",
      " [11] top-level scope at In[2]:1",
      " [12] include_string(::Function, ::Module, ::String, ::String) at ./loading.jl:1091",
      " [13] execute_code(::String, ::String) at /Users/jerobinett/.julia/packages/IJulia/a1SNk/src/execute_request.jl:27",
      " [14] execute_request(::ZMQ.Socket, ::IJulia.Msg) at /Users/jerobinett/.julia/packages/IJulia/a1SNk/src/execute_request.jl:86",
      " [15] #invokelatest#1 at ./essentials.jl:710 [inlined]",
      " [16] invokelatest at ./essentials.jl:709 [inlined]",
      " [17] eventloop(::ZMQ.Socket) at /Users/jerobinett/.julia/packages/IJulia/a1SNk/src/eventloop.jl:8",
      " [18] (::IJulia.var\"#15#18\")() at ./task.jl:356"
     ]
    }
   ],
   "source": [
    "file=jldopen(\"EkmanData.jld2\");\n",
    "x=file[\"grid/xF\"]\n",
    "y=file[\"grid/yF\"]\n",
    "z=file[\"grid/zF\"]\n",
    "\n",
    "X=[x0 for x0 in x, y0 in y]\n",
    "Y=[y0 for x0 in x, y0 in y]\n",
    "\n",
    "iterations = parse.(Int, keys(file[\"timeseries/t\"]))\n",
    "\n",
    "time=maximum(iterations)\n",
    "\n",
    "uvel1=file[\"timeseries/u/$time\"]\n",
    "vvel1= file[\"timeseries/v/$time\"]\n",
    "\n",
    "nicetime=length(iterations)*5\n",
    "\n",
    "anim = @animate for i in (size(uvel1,3)-1):-1:1\n",
    "\n",
    "    uvel=uvel1[:,:,i]\n",
    "    vvel=vvel1[:,:,i]\n",
    "    \n",
    "    zval=z[i]\n",
    "\n",
    "    quiver(X[1:45:end],Y[1:25:end],quiver=8 .*(uvel[1:25:end]./(hypot.(uvel[1:25:end],vvel[1:25:end])),vvel[1:25:end]./(hypot.(uvel[1:25:end],vvel[1:25:end]))),\n",
    "        title = \"Velocity at t=$nicetime minutes at $(-zval) meters\",xlabel = \"x\",ylabel = \"y\",aspect_ratio=:equal,xlim=(-60,60),ylim=(-60,60))\n",
    "end\n",
    "gif(anim, \"Ekman Flow.gif\", fps = 12)"
   ]
  },
  {
   "cell_type": "code",
   "execution_count": null,
   "metadata": {},
   "outputs": [],
   "source": []
  }
 ],
 "metadata": {
  "kernelspec": {
   "display_name": "Julia 1.5.2",
   "language": "julia",
   "name": "julia-1.5"
  },
  "language_info": {
   "file_extension": ".jl",
   "mimetype": "application/julia",
   "name": "julia",
   "version": "1.5.2"
  }
 },
 "nbformat": 4,
 "nbformat_minor": 4
}
