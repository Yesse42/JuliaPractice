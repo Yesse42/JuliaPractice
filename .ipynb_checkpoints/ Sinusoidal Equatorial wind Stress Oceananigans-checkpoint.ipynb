{
 "cells": [
  {
   "cell_type": "code",
   "execution_count": 1,
   "metadata": {},
   "outputs": [],
   "source": [
    "using Oceananigans\n",
    "using Oceananigans.OutputWriters, Oceananigans.Fields\n",
    "using Oceananigans.Utils:day, hour, minute, second"
   ]
  },
  {
   "cell_type": "code",
   "execution_count": 2,
   "metadata": {},
   "outputs": [
    {
     "data": {
      "text/plain": [
       "RegularCartesianGrid{Float64, Bounded, Bounded, Bounded}\n",
       "                   domain: x ∈ [-7.0e6, 7.0e6], y ∈ [-2.5e6, 2.5e6], z ∈ [-500.0, 0.0]\n",
       "                 topology: (Bounded, Bounded, Bounded)\n",
       "  resolution (Nx, Ny, Nz): (500, 250, 125)\n",
       "   halo size (Hx, Hy, Hz): (1, 1, 1)\n",
       "grid spacing (Δx, Δy, Δz): (28000.0, 20000.0, 4.0)"
      ]
     },
     "execution_count": 2,
     "metadata": {},
     "output_type": "execute_result"
    }
   ],
   "source": [
    "grid1 = RegularCartesianGrid(size=(500, 250, 125), y=(-2500*10^3,2500*10^3), x=(-7000*10^3,7000*10^3), z=(-500,0),topology = (Bounded, Bounded, Bounded))"
   ]
  },
  {
   "cell_type": "code",
   "execution_count": 3,
   "metadata": {},
   "outputs": [
    {
     "data": {
      "text/plain": [
       "Oceananigans.FieldBoundaryConditions (NamedTuple{(:x, :y, :z)}), with boundary conditions\n",
       "├── x: CoordinateBoundaryConditions{BoundaryCondition{NormalFlow,Nothing},BoundaryCondition{NormalFlow,Nothing}}\n",
       "├── y: CoordinateBoundaryConditions{BoundaryCondition{Flux,Nothing},BoundaryCondition{Flux,Nothing}}\n",
       "└── z: CoordinateBoundaryConditions{BoundaryCondition{Flux,Nothing},BoundaryCondition{Flux,BoundaryCondition{Flux,Oceananigans.BoundaryConditions.ContinuousBoundaryFunction{Nothing,Nothing,Nothing,Nothing,typeof(surface_wind_flux),Nothing,Tuple{},Nothing,Nothing}}}}"
      ]
     },
     "execution_count": 3,
     "metadata": {},
     "output_type": "execute_result"
    }
   ],
   "source": [
    "@inline surface_wind_flux(x, y, t) = 1.3*1.1*10^-3*(5+6*sin(2*pi*t/(864000))+randn())\n",
    "wind_stress_bc = BoundaryCondition(Flux, surface_wind_flux)\n",
    "u_bcs = UVelocityBoundaryConditions(grid1, top = FluxBoundaryCondition(wind_stress_bc))"
   ]
  },
  {
   "cell_type": "code",
   "execution_count": 4,
   "metadata": {},
   "outputs": [
    {
     "data": {
      "text/plain": [
       "Oceananigans.FieldBoundaryConditions (NamedTuple{(:x, :y, :z)}), with boundary conditions\n",
       "├── x: CoordinateBoundaryConditions{BoundaryCondition{Flux,Nothing},BoundaryCondition{Flux,Nothing}}\n",
       "├── y: CoordinateBoundaryConditions{BoundaryCondition{Flux,Nothing},BoundaryCondition{Flux,Nothing}}\n",
       "└── z: CoordinateBoundaryConditions{BoundaryCondition{Value,Int64},BoundaryCondition{Flux,Nothing}}"
      ]
     },
     "execution_count": 4,
     "metadata": {},
     "output_type": "execute_result"
    }
   ],
   "source": [
    "t_bcs= TracerBoundaryConditions(grid1, bottom = ValueBoundaryCondition(4))"
   ]
  },
  {
   "cell_type": "code",
   "execution_count": 5,
   "metadata": {},
   "outputs": [
    {
     "data": {
      "text/plain": [
       "IncompressibleModel{CPU, Float64}(time = 0 seconds, iteration = 0) \n",
       "├── grid: RegularCartesianGrid{Float64, Bounded, Bounded, Bounded}(Nx=500, Ny=250, Nz=125)\n",
       "├── tracers: (:T, :S)\n",
       "├── closure: AnisotropicDiffusivity{Float64,Float64,Float64,NamedTuple{(:T, :S),Tuple{Float64,Float64}},NamedTuple{(:T, :S),Tuple{Float64,Float64}},NamedTuple{(:T, :S),Tuple{Float64,Float64}}}\n",
       "├── buoyancy: SeawaterBuoyancy{Float64,LinearEquationOfState{Float64},Nothing,Nothing}\n",
       "└── coriolis: BetaPlane{Float64}"
      ]
     },
     "execution_count": 5,
     "metadata": {},
     "output_type": "execute_result"
    }
   ],
   "source": [
    "model1=IncompressibleModel(grid=grid1,architecture = CPU(),float_type=Float64,clock = Clock(time=0.0),coriolis = BetaPlane(rotation_rate=7.292115e-5, latitude=0, radius=6371e3),\n",
    "tracers=(:T, :S),buoyancy=SeawaterBuoyancy(),closure=AnisotropicDiffusivity(νh=1e-4, νz=1e-4, κh=1, κz=1e-4))"
   ]
  },
  {
   "cell_type": "code",
   "execution_count": 6,
   "metadata": {},
   "outputs": [],
   "source": [
    "@inline thermoc(x, y, z) = 16+12*tanh((z+250)/10)+randn()\n",
    "@inline sal(x, y, z) = 16+12*tanh((z+250)/10)+randn()\n",
    "set!(model1, u=-0.1, v=0,T=thermoc,S=sal)"
   ]
  },
  {
   "cell_type": "code",
   "execution_count": 7,
   "metadata": {},
   "outputs": [
    {
     "data": {
      "text/plain": [
       "TimeStepWizard{Float64}(0.2, Inf, 2.0, 0.5, 14400.0, 1.0)"
      ]
     },
     "execution_count": 7,
     "metadata": {},
     "output_type": "execute_result"
    }
   ],
   "source": [
    "wizard = TimeStepWizard(cfl=0.2, Δt=1., max_Δt=14400.)"
   ]
  },
  {
   "cell_type": "code",
   "execution_count": 8,
   "metadata": {},
   "outputs": [
    {
     "data": {
      "text/plain": [
       "JLD2OutputWriter scheduled on TimeInterval(1 hour):\n",
       "├── filepath: ./Equatorial β Temp.jld2\n",
       "├── 2 outputs: (:T, :S)\n",
       "├── field slicer: FieldSlicer(:, :, :, with_halos=false)\n",
       "├── array type: Array{Float32}\n",
       "├── including: [:grid, :coriolis, :buoyancy, :closure]\n",
       "└── max filesize: Inf YiB"
      ]
     },
     "execution_count": 8,
     "metadata": {},
     "output_type": "execute_result"
    }
   ],
   "source": [
    "simulation = Simulation(model1, Δt=1., stop_time=30day, iteration_interval=20)\n",
    "\n",
    "function init_save_some_metadata!(file, model)\n",
    "    file[\"author\"] = \"oofs\"\n",
    "    return nothing\n",
    "end\n",
    "\n",
    "# Note that model.velocities is NamedTuple\n",
    "simulation.output_writers[:velocities] = JLD2OutputWriter(model1, model1.velocities,\n",
    "                                                          prefix = \"Equatorial β Velocity\",\n",
    "                                                          schedule = TimeInterval(1hour),\n",
    "                                                          init = init_save_some_metadata!)\n",
    "\n",
    "simulation.output_writers[:tracers] = JLD2OutputWriter(model1, model1.tracers,\n",
    "                                                          prefix = \"Equatorial β Temp\",\n",
    "                                                          schedule = TimeInterval(1hour),\n",
    "                                                          init = init_save_some_metadata!)"
   ]
  },
  {
   "cell_type": "code",
   "execution_count": null,
   "metadata": {},
   "outputs": [],
   "source": [
    "run!(simulation)\n",
    "\n",
    "using Plots, JLD2, Printf, Oceananigans.Grids\n",
    "x, y, z = nodes(model1.tracers.T)\n",
    "\n",
    "file = jldopen(simulation.output_writers[:tracers].filepath)\n",
    "\n",
    "# Extracts a vector of `iterations` at which data was saved.\n",
    "iterations = parse.(Int, keys(file[\"timeseries/t\"]))\n",
    "\n",
    "anim = @animate for (i, iter) in enumerate(iterations)\n",
    "\n",
    "    @info \"Drawing frame $i from iteration $iter...\"\n",
    "\n",
    "    Temp = transpose(file[\"timeseries/T/$iter\"][125,:,:])\n",
    "    timeofthing=file[\"timeseries/t/$iter\"]\n",
    "    \n",
    "    display(Temp)\n",
    "\n",
    "    contourf(y, z, Temp, title = \"Temperature Profile at x=0, t=$timeofthing\",levels = 0:1:30,linewidth=0,xlabel = \"y\",ylabel = \"z\",)\n",
    "end\n",
    "gif(anim, \"INFINITE TEMPERATURE REPRODUCER.gif\", fps = 15)"
   ]
  },
  {
   "cell_type": "code",
   "execution_count": null,
   "metadata": {},
   "outputs": [],
   "source": []
  }
 ],
 "metadata": {
  "kernelspec": {
   "display_name": "Julia 1.5.2",
   "language": "julia",
   "name": "julia-1.5"
  },
  "language_info": {
   "file_extension": ".jl",
   "mimetype": "application/julia",
   "name": "julia",
   "version": "1.5.2"
  }
 },
 "nbformat": 4,
 "nbformat_minor": 4
}
