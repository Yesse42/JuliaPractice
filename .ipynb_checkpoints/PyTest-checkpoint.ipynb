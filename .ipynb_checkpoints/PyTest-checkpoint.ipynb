{
 "cells": [
  {
   "cell_type": "code",
   "execution_count": 26,
   "metadata": {},
   "outputs": [],
   "source": [
    "import numpy as np\n",
    "import random"
   ]
  },
  {
   "cell_type": "code",
   "execution_count": 27,
   "metadata": {},
   "outputs": [],
   "source": [
    "def monteCarloPi(n_iter):\n",
    "    x=np.random.rand(n_iter,1)\n",
    "    y=np.random.rand(n_iter,1)\n",
    "    countIn=np.sum((x**2+y**2)<=1)\n",
    "    print(countIn/n_iter)\n",
    "    print(4*countIn/n_iter)\n",
    "    print(4*countIn/n_iter-np.pi)"
   ]
  },
  {
   "cell_type": "code",
   "execution_count": 28,
   "metadata": {},
   "outputs": [
    {
     "name": "stdout",
     "output_type": "stream",
     "text": [
      "0.7854065\n",
      "3.141626\n",
      "3.3346410206913646e-05\n"
     ]
    }
   ],
   "source": [
    "monteCarloPi(10**7)"
   ]
  },
  {
   "cell_type": "code",
   "execution_count": 29,
   "metadata": {},
   "outputs": [
    {
     "name": "stdout",
     "output_type": "stream",
     "text": [
      "0.7854643\n",
      "3.1418572\n",
      "0.0002645464102069006\n",
      "0.785303\n",
      "3.141212\n",
      "-0.00038065358979322284\n",
      "0.7853114\n",
      "3.1412456\n",
      "-0.0003470535897931448\n",
      "0.7852547\n",
      "3.1410188\n",
      "-0.0005738535897932273\n",
      "0.7853298\n",
      "3.1413192\n",
      "-0.00027345358979324885\n",
      "0.7852609\n",
      "3.1410436\n",
      "-0.0005490535897929583\n",
      "0.7855411\n",
      "3.1421644\n",
      "0.0005717464102068526\n",
      "0.7854493\n",
      "3.1417972\n",
      "0.00020454641020695163\n",
      "223 ms ± 3.38 ms per loop (mean ± std. dev. of 7 runs, 1 loop each)\n"
     ]
    }
   ],
   "source": [
    "%timeit monteCarloPi(10**7)"
   ]
  },
  {
   "cell_type": "code",
   "execution_count": null,
   "metadata": {},
   "outputs": [],
   "source": []
  }
 ],
 "metadata": {
  "kernelspec": {
   "display_name": "Python 3",
   "language": "python",
   "name": "python3"
  },
  "language_info": {
   "codemirror_mode": {
    "name": "ipython",
    "version": 3
   },
   "file_extension": ".py",
   "mimetype": "text/x-python",
   "name": "python",
   "nbconvert_exporter": "python",
   "pygments_lexer": "ipython3",
   "version": "3.7.7"
  }
 },
 "nbformat": 4,
 "nbformat_minor": 4
}
