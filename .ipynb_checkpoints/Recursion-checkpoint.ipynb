{
 "cells": [
  {
   "cell_type": "code",
   "execution_count": 1,
   "metadata": {},
   "outputs": [
    {
     "data": {
      "text/plain": [
       "45"
      ]
     },
     "execution_count": 1,
     "metadata": {},
     "output_type": "execute_result"
    }
   ],
   "source": [
    "function TriangularNum(num::Int)\n",
    "    if num==1\n",
    "        return 1\n",
    "    else\n",
    "        return num + TriangularNum(num-1)\n",
    "    end\n",
    "end\n",
    "TriangularNum(9)"
   ]
  },
  {
   "cell_type": "code",
   "execution_count": 2,
   "metadata": {},
   "outputs": [
    {
     "data": {
      "text/plain": [
       "48620"
      ]
     },
     "execution_count": 2,
     "metadata": {},
     "output_type": "execute_result"
    }
   ],
   "source": [
    "function UniquePaths(n,m)\n",
    "    if n==1 || m==1\n",
    "        return 1\n",
    "    else\n",
    "        return UniquePaths(m-1,n)+UniquePaths(m,n-1)\n",
    "    end\n",
    "end\n",
    "UniquePaths(10,10)"
   ]
  },
  {
   "cell_type": "code",
   "execution_count": 13,
   "metadata": {},
   "outputs": [
    {
     "data": {
      "text/plain": [
       "5"
      ]
     },
     "execution_count": 13,
     "metadata": {},
     "output_type": "execute_result"
    }
   ],
   "source": [
    "function Partitions(n,r)\n",
    "    if r==0 || n<0\n",
    "        return 0\n",
    "    elseif n==0\n",
    "        return 1\n",
    "    else\n",
    "        return Partitions(n,r-1)+Partitions(n-r,r)\n",
    "    end\n",
    "end\n",
    "Partitions(5,3)"
   ]
  },
  {
   "cell_type": "code",
   "execution_count": null,
   "metadata": {},
   "outputs": [],
   "source": []
  }
 ],
 "metadata": {
  "kernelspec": {
   "display_name": "Julia 1.5.2",
   "language": "julia",
   "name": "julia-1.5"
  },
  "language_info": {
   "file_extension": ".jl",
   "mimetype": "application/julia",
   "name": "julia",
   "version": "1.5.2"
  }
 },
 "nbformat": 4,
 "nbformat_minor": 4
}
