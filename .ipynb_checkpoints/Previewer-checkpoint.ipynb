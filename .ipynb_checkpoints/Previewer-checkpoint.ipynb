{
 "cells": [
  {
   "cell_type": "code",
   "execution_count": 6,
   "metadata": {},
   "outputs": [],
   "source": [
    "using Plots, JLD2, Printf, ColorSchemes"
   ]
  },
  {
   "cell_type": "code",
   "execution_count": 7,
   "metadata": {},
   "outputs": [
    {
     "name": "stderr",
     "output_type": "stream",
     "text": [
      "┌ Warning: Opening file with JLD2.MmapIO failed, falling back to IOStream\n",
      "└ @ JLD2 /Users/jerobinett/.julia/packages/JLD2/eU405/src/JLD2.jl:196\n"
     ]
    },
    {
     "ename": "LoadError",
     "evalue": "SystemError: opening file \"EkmanData.jld2\": No such file or directory",
     "output_type": "error",
     "traceback": [
      "SystemError: opening file \"EkmanData.jld2\": No such file or directory",
      "",
      "Stacktrace:",
      " [1] systemerror(::String, ::Int32; extrainfo::Nothing) at ./error.jl:168",
      " [2] #systemerror#48 at ./error.jl:167 [inlined]",
      " [3] systemerror at ./error.jl:167 [inlined]",
      " [4] open(::String; lock::Bool, read::Bool, write::Bool, create::Bool, truncate::Bool, append::Bool) at ./iostream.jl:284",
      " [5] openfile at /Users/jerobinett/.julia/packages/JLD2/eU405/src/JLD2.jl:186 [inlined]",
      " [6] openfile(::Type{T} where T, ::String, ::Bool, ::Bool, ::Bool, ::Type{T} where T) at /Users/jerobinett/.julia/packages/JLD2/eU405/src/JLD2.jl:197",
      " [7] jldopen(::String, ::Bool, ::Bool, ::Bool, ::Type{JLD2.MmapIO}; fallback::Type{IOStream}, compress::Bool, mmaparrays::Bool) at /Users/jerobinett/.julia/packages/JLD2/eU405/src/JLD2.jl:249",
      " [8] jldopen(::String, ::Bool, ::Bool, ::Bool, ::Type{JLD2.MmapIO}) at /Users/jerobinett/.julia/packages/JLD2/eU405/src/JLD2.jl:213",
      " [9] jldopen(::String, ::String; iotype::Type{T} where T, kwargs::Base.Iterators.Pairs{Union{},Union{},Tuple{},NamedTuple{(),Tuple{}}}) at /Users/jerobinett/.julia/packages/JLD2/eU405/src/JLD2.jl:305",
      " [10] jldopen at /Users/jerobinett/.julia/packages/JLD2/eU405/src/JLD2.jl:300 [inlined] (repeats 2 times)",
      " [11] top-level scope at In[7]:1",
      " [12] include_string(::Function, ::Module, ::String, ::String) at ./loading.jl:1091",
      " [13] execute_code(::String, ::String) at /Users/jerobinett/.julia/packages/IJulia/a1SNk/src/execute_request.jl:27",
      " [14] execute_request(::ZMQ.Socket, ::IJulia.Msg) at /Users/jerobinett/.julia/packages/IJulia/a1SNk/src/execute_request.jl:86",
      " [15] #invokelatest#1 at ./essentials.jl:710 [inlined]",
      " [16] invokelatest at ./essentials.jl:709 [inlined]",
      " [17] eventloop(::ZMQ.Socket) at /Users/jerobinett/.julia/packages/IJulia/a1SNk/src/eventloop.jl:8",
      " [18] (::IJulia.var\"#15#18\")() at ./task.jl:356"
     ]
    }
   ],
   "source": [
    "file=jldopen(\"EkmanData.jld2\");"
   ]
  },
  {
   "cell_type": "code",
   "execution_count": 8,
   "metadata": {},
   "outputs": [
    {
     "data": {
      "text/plain": [
       "Plots.GRBackend()"
      ]
     },
     "execution_count": 8,
     "metadata": {},
     "output_type": "execute_result"
    }
   ],
   "source": [
    "gr()"
   ]
  },
  {
   "cell_type": "code",
   "execution_count": null,
   "metadata": {},
   "outputs": [],
   "source": [
    "x=file[\"grid/xF\"]\n",
    "y=file[\"grid/yF\"]\n",
    "z=file[\"grid/zF\"]\n",
    "\n",
    "X=[x0 for x0 in x, y0 in y]\n",
    "Y=[y0 for x0 in x, y0 in y]\n",
    "\n",
    "iterations = parse.(Int, keys(file[\"timeseries/t\"]))\n",
    "\n",
    "time=maximum(iterations)\n",
    "\n",
    "uvel1=file[\"timeseries/u/$time\"]\n",
    "vvel1= file[\"timeseries/v/$time\"]\n",
    "\n",
    "nicetime=length(iterations)*5\n",
    "\n",
    "anim = @animate for i in (size(uvel1,3)-1):-1:1\n",
    "\n",
    "    uvel=uvel1[:,:,i]\n",
    "    vvel=vvel1[:,:,i]\n",
    "    \n",
    "    zval=z[i]\n",
    "\n",
    "    quiver(X[1:45:end],Y[1:25:end],quiver=8 .*(uvel[1:25:end]./(hypot.(uvel[1:25:end],vvel[1:25:end])),vvel[1:25:end]./(hypot.(uvel[1:25:end],vvel[1:25:end]))),\n",
    "        title = \"Velocity at t=$nicetime minutes at $(-zval) meters\",xlabel = \"x\",ylabel = \"y\",aspect_ratio=:equal,xlim=(-60,60),ylim=(-60,60))\n",
    "end\n",
    "gif(anim, \"Ekman Flow.gif\", fps = 12)"
   ]
  },
  {
   "cell_type": "code",
   "execution_count": null,
   "metadata": {},
   "outputs": [],
   "source": []
  }
 ],
 "metadata": {
  "kernelspec": {
   "display_name": "Julia 1.5.2",
   "language": "julia",
   "name": "julia-1.5"
  },
  "language_info": {
   "file_extension": ".jl",
   "mimetype": "application/julia",
   "name": "julia",
   "version": "1.5.2"
  }
 },
 "nbformat": 4,
 "nbformat_minor": 4
}
