{
 "cells": [
  {
   "cell_type": "code",
   "execution_count": 15,
   "id": "74ba9752-ae4a-418f-8218-f0c721fdb018",
   "metadata": {},
   "outputs": [],
   "source": [
    "using RowEchelon, SymPy\n",
    "import_from(sympy)"
   ]
  },
  {
   "cell_type": "code",
   "execution_count": 26,
   "id": "92a77a16-8b95-44cf-b468-e36f3b8b2083",
   "metadata": {},
   "outputs": [
    {
     "data": {
      "text/latex": [
       "$\\left[ \\begin{array}{rrr}\\frac{\\sin{\\left(θ \\right)} \\cos{\\left(ϕ \\right)}}{\\sin^{2}{\\left(θ \\right)} \\sin^{2}{\\left(ϕ \\right)} + \\sin^{2}{\\left(θ \\right)} \\cos^{2}{\\left(ϕ \\right)} + \\sin^{2}{\\left(ϕ \\right)} \\cos^{2}{\\left(θ \\right)} + \\cos^{2}{\\left(θ \\right)} \\cos^{2}{\\left(ϕ \\right)}}&\\frac{\\sin{\\left(θ \\right)} \\sin{\\left(ϕ \\right)}}{\\sin^{2}{\\left(θ \\right)} \\sin^{2}{\\left(ϕ \\right)} + \\sin^{2}{\\left(θ \\right)} \\cos^{2}{\\left(ϕ \\right)} + \\sin^{2}{\\left(ϕ \\right)} \\cos^{2}{\\left(θ \\right)} + \\cos^{2}{\\left(θ \\right)} \\cos^{2}{\\left(ϕ \\right)}}&\\frac{\\cos{\\left(θ \\right)}}{\\sin^{2}{\\left(θ \\right)} + \\cos^{2}{\\left(θ \\right)}}\\\\\\frac{\\cos{\\left(θ \\right)} \\cos{\\left(ϕ \\right)}}{r \\sin^{2}{\\left(θ \\right)} \\sin^{2}{\\left(ϕ \\right)} + r \\sin^{2}{\\left(θ \\right)} \\cos^{2}{\\left(ϕ \\right)} + r \\sin^{2}{\\left(ϕ \\right)} \\cos^{2}{\\left(θ \\right)} + r \\cos^{2}{\\left(θ \\right)} \\cos^{2}{\\left(ϕ \\right)}}&\\frac{\\sin{\\left(ϕ \\right)} \\cos{\\left(θ \\right)}}{r \\sin^{2}{\\left(θ \\right)} \\sin^{2}{\\left(ϕ \\right)} + r \\sin^{2}{\\left(θ \\right)} \\cos^{2}{\\left(ϕ \\right)} + r \\sin^{2}{\\left(ϕ \\right)} \\cos^{2}{\\left(θ \\right)} + r \\cos^{2}{\\left(θ \\right)} \\cos^{2}{\\left(ϕ \\right)}}&- \\frac{\\sin{\\left(θ \\right)}}{r \\sin^{2}{\\left(θ \\right)} + r \\cos^{2}{\\left(θ \\right)}}\\\\- \\frac{\\sin{\\left(ϕ \\right)}}{r \\sin{\\left(θ \\right)} \\sin^{2}{\\left(ϕ \\right)} + r \\sin{\\left(θ \\right)} \\cos^{2}{\\left(ϕ \\right)}}&\\frac{\\cos{\\left(ϕ \\right)}}{r \\sin{\\left(θ \\right)} \\sin^{2}{\\left(ϕ \\right)} + r \\sin{\\left(θ \\right)} \\cos^{2}{\\left(ϕ \\right)}}&0\\end{array}\\right]$\n"
      ],
      "text/plain": [
       "3×3 Matrix{Sym}:\n",
       "         sin(θ)*cos(ϕ)/(sin(θ)^2*sin(ϕ)^2 + sin(θ)^2*cos(ϕ)^2 + sin(ϕ)^2*cos(θ)^2 + cos(θ)^2*cos(ϕ)^2)  …       cos(θ)/(sin(θ)^2 + cos(θ)^2)\n",
       " cos(θ)*cos(ϕ)/(r*sin(θ)^2*sin(ϕ)^2 + r*sin(θ)^2*cos(ϕ)^2 + r*sin(ϕ)^2*cos(θ)^2 + r*cos(θ)^2*cos(ϕ)^2)     -sin(θ)/(r*sin(θ)^2 + r*cos(θ)^2)\n",
       "                                                       -sin(ϕ)/(r*sin(θ)*sin(ϕ)^2 + r*sin(θ)*cos(ϕ)^2)                                     0"
      ]
     },
     "execution_count": 26,
     "metadata": {},
     "output_type": "execute_result"
    }
   ],
   "source": [
    "@syms r, θ, ϕ\n",
    "matrix_of_fun=[sin(θ)*cos(ϕ) r*cos(θ)*cos(ϕ) -r*sin(θ)*sin(ϕ)\n",
    "                sin(θ)*sin(ϕ) r*cos(θ)*sin(ϕ) r*sin(θ)*cos(ϕ)\n",
    "                cos(θ) -r*sin(θ) 0]\n",
    "\n",
    "oofy=inv(matrix_of_fun)"
   ]
  },
  {
   "cell_type": "code",
   "execution_count": 27,
   "id": "823837c4-d4b9-434a-8d1e-6c7c02a00d67",
   "metadata": {},
   "outputs": [
    {
     "data": {
      "text/latex": [
       "$\\left[ \\begin{array}{rrr}\\sin{\\left(θ \\right)} \\cos{\\left(ϕ \\right)}&\\sin{\\left(θ \\right)} \\sin{\\left(ϕ \\right)}&\\cos{\\left(θ \\right)}\\\\\\frac{\\cos{\\left(θ \\right)} \\cos{\\left(ϕ \\right)}}{r}&\\frac{\\sin{\\left(ϕ \\right)} \\cos{\\left(θ \\right)}}{r}&- \\frac{\\sin{\\left(θ \\right)}}{r}\\\\- \\frac{\\sin{\\left(ϕ \\right)}}{r \\sin{\\left(θ \\right)}}&\\frac{\\cos{\\left(ϕ \\right)}}{r \\sin{\\left(θ \\right)}}&0\\end{array}\\right]$\n"
      ],
      "text/plain": [
       "3×3 Matrix{Sym}:\n",
       "      sin(θ)⋅cos(ϕ)      sin(θ)⋅sin(ϕ)     cos(θ)\n",
       "    cos(θ)*cos(ϕ)/r    sin(ϕ)*cos(θ)/r  -sin(θ)/r\n",
       " -sin(ϕ)/(r*sin(θ))  cos(ϕ)/(r*sin(θ))          0"
      ]
     },
     "execution_count": 27,
     "metadata": {},
     "output_type": "execute_result"
    }
   ],
   "source": [
    "trigsimp.(oofy)"
   ]
  },
  {
   "cell_type": "code",
   "execution_count": null,
   "id": "bac0d80b-38db-4bb1-b05f-38185afee669",
   "metadata": {},
   "outputs": [],
   "source": []
  }
 ],
 "metadata": {
  "kernelspec": {
   "display_name": "Julia 1.6.1",
   "language": "julia",
   "name": "julia-1.6"
  },
  "language_info": {
   "file_extension": ".jl",
   "mimetype": "application/julia",
   "name": "julia",
   "version": "1.6.1"
  }
 },
 "nbformat": 4,
 "nbformat_minor": 5
}
