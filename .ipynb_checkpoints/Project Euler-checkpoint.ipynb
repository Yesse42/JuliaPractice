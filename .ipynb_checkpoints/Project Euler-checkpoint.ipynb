{
 "cells": [
  {
   "cell_type": "code",
   "execution_count": 4,
   "metadata": {},
   "outputs": [
    {
     "data": {
      "text/plain": [
       "evenFibSum (generic function with 1 method)"
      ]
     },
     "execution_count": 4,
     "metadata": {},
     "output_type": "execute_result"
    }
   ],
   "source": [
    "using LinearAlgebra\n",
    "function evenFibSum()\n",
    "    fibArray=[1;2]\n",
    "    evensum=0\n",
    "    while fibArray[2]<4000000\n",
    "        fibArray=[0 1;1 1]*fibArray\n",
    "        if fibArray[2]%2==0\n",
    "            evensum+=fibArray[2]\n",
    "        end\n",
    "    end\n",
    "    print(evensum)\n",
    "end"
   ]
  },
  {
   "cell_type": "code",
   "execution_count": 5,
   "metadata": {},
   "outputs": [
    {
     "name": "stdout",
     "output_type": "stream",
     "text": [
      "4613730"
     ]
    }
   ],
   "source": [
    "evenFibSum()"
   ]
  },
  {
   "cell_type": "code",
   "execution_count": 6,
   "metadata": {},
   "outputs": [
    {
     "data": {
      "text/plain": [
       "largestPFactor (generic function with 1 method)"
      ]
     },
     "execution_count": 6,
     "metadata": {},
     "output_type": "execute_result"
    }
   ],
   "source": [
    "function isprime(number, primesList)\n",
    "    for element in primesList\n",
    "        if number%element==0\n",
    "            return false\n",
    "        else\n",
    "            return true\n",
    "        end\n",
    "    end\n",
    "end\n",
    "function isBiggestFactor(number,possibleFactors)\n",
    "    for element in sort!(possibleFactors, rev=true)\n",
    "        if number%element==0\n",
    "            return element\n",
    "        end\n",
    "    end       \n",
    "end\n",
    "function largestPFactor()\n",
    "    primesList=[2]\n",
    "    n=3\n",
    "    while n^2<=600851475143\n",
    "        if isprime(n,primesList)\n",
    "            append!(primesList,n)\n",
    "        end\n",
    "        n+=2\n",
    "    end\n",
    "    println(isBiggestFactor(600851475143,primesList))\n",
    "end"
   ]
  },
  {
   "cell_type": "code",
   "execution_count": 7,
   "metadata": {},
   "outputs": [
    {
     "name": "stdout",
     "output_type": "stream",
     "text": [
      "486847\n"
     ]
    }
   ],
   "source": [
    "largestPFactor()"
   ]
  },
  {
   "cell_type": "code",
   "execution_count": 8,
   "metadata": {},
   "outputs": [
    {
     "data": {
      "text/plain": [
       "palindromeProduct (generic function with 1 method)"
      ]
     },
     "execution_count": 8,
     "metadata": {},
     "output_type": "execute_result"
    }
   ],
   "source": [
    "function palindromeProduct()\n",
    "    palList=[]\n",
    "    palFacList1=[]\n",
    "    palFacList2=[]\n",
    "    range=100:1:999\n",
    "    for i in range\n",
    "        for k in range\n",
    "            if string(i*k)==reverse(string(i*k))\n",
    "                append!(palFacList1, i)\n",
    "                append!(palFacList2, k)\n",
    "                append!(palList,i*k)\n",
    "            end\n",
    "        range=(i+1):1:999\n",
    "        end\n",
    "    end\n",
    "    println(maximum(palList))\n",
    "    println((palFacList1[argmax(palList)],palFacList2[argmax(palList)]))\n",
    "end"
   ]
  },
  {
   "cell_type": "code",
   "execution_count": 9,
   "metadata": {},
   "outputs": [
    {
     "name": "stdout",
     "output_type": "stream",
     "text": [
      "906609\n",
      "(913, 993)\n"
     ]
    }
   ],
   "source": [
    "palindromeProduct()"
   ]
  },
  {
   "cell_type": "code",
   "execution_count": 1,
   "metadata": {},
   "outputs": [
    {
     "data": {
      "text/plain": [
       "badIdea (generic function with 1 method)"
      ]
     },
     "execution_count": 1,
     "metadata": {},
     "output_type": "execute_result"
    }
   ],
   "source": [
    "function badIdea()\n",
    "    sum::BigInt=0\n",
    "    for i::BigInt in 1:1:1000\n",
    "        sum=sum+i^i\n",
    "    end\n",
    "    print(sum)\n",
    "end"
   ]
  },
  {
   "cell_type": "code",
   "execution_count": 2,
   "metadata": {},
   "outputs": [
    {
     "name": "stdout",
     "output_type": "stream",
     "text": [
      "1000368199144695177095375011227646795567793680622934654583760988100234910747716194381428659099527845945869942643191290894720342979906407679647259860434238468038326040809691037615370376237713648510063115732951461774246705584266865759601815843666442832284556880313114548151539190975398485496645576513465858582712336401166221956188173449531674102688908321764663020306699770408625340766091595022791379368098369306375602813856646358773751558775213460225796579846583334007349358624342339332981334571237888809283103348760261360175950815609179464026871005243652109980863552142014242903434068560936573231079342194031864413918101238151056509267393515760392842472501391594073463001521843811073767021711026307504695733467897821866906648469828346607412967395801797791683609834722432241952845352564681868240369569566192825555323558078061997527689983848863374786789331581565252059172614339424600986143259233167583371070362625554531852054166117148858229508581589614337594463277554380518380921301218836327102231407332201109740102580216469298331766920619646083790732807627360614428085171565006289728508688964226799647192582924058589530750674578385365561878559589685756225692348914746922810913915619834754117648358035814128670294158565669942087736286390942241547226015004471330630113072042704288905042142628193771918594574302202147201188486345913190833752307476966010547423928871063118783026036381319039052008252072057933666712918946233312793697094074224187872045970976444309242782187738320257490080824330074991698698239561125811127607863900355221737846690567707344074494145266662103839812840216303448476913957072355732716627098372245223046792919747259113157425824064858331415400943278213042954635053574045209984512221264241903550178416824551412548637590007779082539288247751653566899882749594405895102587985539527709493510049546445427265617478399107188238681771215904234119392247489751079085948055945098805617963722928469554263782217625160428008228845552540344494860195267115187092227766195753907211126646150140614744233974765273475619964311852858614167819668340124730487710162006793529985758820653677274379563313495454526632718723482339494825759821076401694316043456512117937935456463521463021197726694983558929132357576188594977516630734212863869456164205525536767311298137182511494649463663073759219213056823561667776093739425742883930712609962163464088038826569132032160692637206183085942987973684584276491784843115472077900401692595694119273553511025991265446039366288921743581333200083717105241171504606883543418862024047552177055263424469501298905901938158245938633694105024815166679813689156668341197713475094389904887126794468901893850475050011205225742455555625750560213230387910337983950333245020653238989115507013882956277763880795687210857196493893142656713105966275422144605988058939600603604226921401402096519294250488670297983396353279460453142375542267881989197481789780678955093763193658603690898474826976906544473978017455720367929981796023041785852626797271283465789498383642350667978127819110846700"
     ]
    }
   ],
   "source": [
    "badIdea()"
   ]
  },
  {
   "cell_type": "code",
   "execution_count": 22,
   "metadata": {},
   "outputs": [
    {
     "data": {
      "text/plain": [
       "squareSum (generic function with 1 method)"
      ]
     },
     "execution_count": 22,
     "metadata": {},
     "output_type": "execute_result"
    }
   ],
   "source": [
    "function squareSum()\n",
    "    sum=0\n",
    "    for i in 1:100\n",
    "        for k in filter(x->x≠i,1:100)\n",
    "            sum+=i*k\n",
    "        end\n",
    "    end\n",
    "    print(sum)\n",
    "end"
   ]
  },
  {
   "cell_type": "code",
   "execution_count": 23,
   "metadata": {},
   "outputs": [
    {
     "name": "stdout",
     "output_type": "stream",
     "text": [
      "25164150"
     ]
    }
   ],
   "source": [
    "squareSum()"
   ]
  },
  {
   "cell_type": "code",
   "execution_count": 27,
   "metadata": {},
   "outputs": [
    {
     "data": {
      "text/plain": [
       "largestPrime (generic function with 1 method)"
      ]
     },
     "execution_count": 27,
     "metadata": {},
     "output_type": "execute_result"
    }
   ],
   "source": [
    "function largestPrime()\n",
    "    primesList=[2]\n",
    "    n=3\n",
    "    while length(primesList)<=10000\n",
    "        if isprime(n,primesList)\n",
    "            append!(primesList,n)\n",
    "        end\n",
    "        n+=2\n",
    "    end\n",
    "    print(primesList[end])\n",
    "end"
   ]
  },
  {
   "cell_type": "code",
   "execution_count": 28,
   "metadata": {},
   "outputs": [
    {
     "name": "stdout",
     "output_type": "stream",
     "text": [
      "20001"
     ]
    }
   ],
   "source": [
    "largestPrime()"
   ]
  },
  {
   "cell_type": "code",
   "execution_count": 49,
   "metadata": {},
   "outputs": [
    {
     "data": {
      "text/plain": [
       "biggestProduct (generic function with 1 method)"
      ]
     },
     "execution_count": 49,
     "metadata": {},
     "output_type": "execute_result"
    }
   ],
   "source": [
    "function biggestProduct()\n",
    "    numbers=\"\"\"73167176531330624919225119674426574742355349194934\n",
    "96983520312774506326239578318016984801869478851843\n",
    "85861560789112949495459501737958331952853208805511\n",
    "12540698747158523863050715693290963295227443043557\n",
    "66896648950445244523161731856403098711121722383113\n",
    "62229893423380308135336276614282806444486645238749\n",
    "30358907296290491560440772390713810515859307960866\n",
    "70172427121883998797908792274921901699720888093776\n",
    "65727333001053367881220235421809751254540594752243\n",
    "52584907711670556013604839586446706324415722155397\n",
    "53697817977846174064955149290862569321978468622482\n",
    "83972241375657056057490261407972968652414535100474\n",
    "82166370484403199890008895243450658541227588666881\n",
    "16427171479924442928230863465674813919123162824586\n",
    "17866458359124566529476545682848912883142607690042\n",
    "24219022671055626321111109370544217506941658960408\n",
    "07198403850962455444362981230987879927244284909188\n",
    "84580156166097919133875499200524063689912560717606\n",
    "05886116467109405077541002256983155200055935729725\n",
    "71636269561882670428252483600823257530420752963450\"\"\"\n",
    "    bigProd=0\n",
    "    bigProdFac=nothing\n",
    "    for i in 1:(length(numbers)-13)\n",
    "        if prod(convert(Array{Int64},collect(replace(numbers[i:i+13],\"\\n\"=>\"\"))))>bigProd\n",
    "            bigProd=prod(convert(Array{Int64},collect(replace(numbers[i:i+13],\"\\n\"=>\"\"))))\n",
    "            bigProdFac=collect(numbers[i:i+13])\n",
    "        end\n",
    "    end\n",
    "    print(bigProd)\n",
    "    println(bigProdFac)\n",
    "    oof=1\n",
    "    for i in bigProdFac\n",
    "        oof=oof*Int(i)\n",
    "    end\n",
    "    print(oof)\n",
    "end"
   ]
  },
  {
   "cell_type": "code",
   "execution_count": 50,
   "metadata": {},
   "outputs": [
    {
     "name": "stdout",
     "output_type": "stream",
     "text": [
      "9182952612626497536['4', '4', '0', '7', '7', '2', '3', '9', '0', '7', '1', '3', '8', '1']\n",
      "9182952612626497536"
     ]
    }
   ],
   "source": [
    "biggestProduct()"
   ]
  },
  {
   "cell_type": "code",
   "execution_count": null,
   "metadata": {},
   "outputs": [],
   "source": []
  }
 ],
 "metadata": {
  "kernelspec": {
   "display_name": "Julia 1.5.2",
   "language": "julia",
   "name": "julia-1.5"
  },
  "language_info": {
   "file_extension": ".jl",
   "mimetype": "application/julia",
   "name": "julia",
   "version": "1.5.2"
  }
 },
 "nbformat": 4,
 "nbformat_minor": 4
}
