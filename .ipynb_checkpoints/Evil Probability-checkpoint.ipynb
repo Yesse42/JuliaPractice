{
 "cells": [
  {
   "cell_type": "code",
   "execution_count": 115,
   "metadata": {},
   "outputs": [
    {
     "data": {
      "text/plain": [
       "N (generic function with 1 method)"
      ]
     },
     "execution_count": 115,
     "metadata": {},
     "output_type": "execute_result"
    }
   ],
   "source": [
    "function N(p,q,n)\n",
    "    return p*(1-p)^(n-1)\n",
    "end"
   ]
  },
  {
   "cell_type": "code",
   "execution_count": 116,
   "metadata": {},
   "outputs": [
    {
     "data": {
      "text/plain": [
       "Joint (generic function with 1 method)"
      ]
     },
     "execution_count": 116,
     "metadata": {},
     "output_type": "execute_result"
    }
   ],
   "source": [
    "function Joint(p,q,h,n)\n",
    "    return binomial(big(n),big(h))*q^h*(1-q)^(n-h)*N(p,q,n)\n",
    "end"
   ]
  },
  {
   "cell_type": "code",
   "execution_count": 117,
   "metadata": {},
   "outputs": [
    {
     "data": {
      "text/plain": [
       "H (generic function with 1 method)"
      ]
     },
     "execution_count": 117,
     "metadata": {},
     "output_type": "execute_result"
    }
   ],
   "source": [
    "function H(p,q,h)\n",
    "    return sum(Joint(p,q,h,n) for n ∈ 1:10000)\n",
    "end"
   ]
  },
  {
   "cell_type": "code",
   "execution_count": 123,
   "metadata": {},
   "outputs": [],
   "source": [
    "using Printf"
   ]
  },
  {
   "cell_type": "code",
   "execution_count": 130,
   "metadata": {},
   "outputs": [
    {
     "data": {
      "text/plain": [
       "submain (generic function with 1 method)"
      ]
     },
     "execution_count": 130,
     "metadata": {},
     "output_type": "execute_result"
    }
   ],
   "source": [
    "#Test the function over a sizable domain\n",
    "function submain(p,q)\n",
    "    #Try a range of n and h\n",
    "    RMSError::BigFloat=0\n",
    "    for n ∈ 0:3\n",
    "        for h ∈ 1:3\n",
    "            println(@printf(\"%2f\", Joint(p,q,h,n)-H(p,q,h)*N(p,q,n)))\n",
    "        end\n",
    "    end\n",
    "    return 1e-4*sqrt(RMSError)\n",
    "end"
   ]
  },
  {
   "cell_type": "code",
   "execution_count": 131,
   "metadata": {},
   "outputs": [
    {
     "data": {
      "text/plain": [
       "main (generic function with 2 methods)"
      ]
     },
     "execution_count": 131,
     "metadata": {},
     "output_type": "execute_result"
    }
   ],
   "source": [
    "function main()\n",
    "    meanerror::BigFloat=0\n",
    "    for p ∈ 0.01:0.1:0.99\n",
    "        for q ∈ 0.01:0.1:0.99\n",
    "            meanerror+=submain(p,q)\n",
    "        end\n",
    "    end\n",
    "    return meanerror/(99^2)\n",
    "end"
   ]
  },
  {
   "cell_type": "code",
   "execution_count": 132,
   "metadata": {},
   "outputs": [
    {
     "name": "stdout",
     "output_type": "stream",
     "text": [
      "-0.444444nothing\n",
      "-0.148148nothing\n",
      "-0.049383nothing\n",
      "0.027778nothing\n",
      "-0.074074nothing\n",
      "-0.024691nothing\n",
      "0.013889nothing\n",
      "0.025463nothing\n",
      "-0.012346nothing\n",
      "-0.008681nothing\n",
      "0.028356nothing\n",
      "0.009452nothing\n"
     ]
    },
    {
     "data": {
      "text/plain": [
       "0.0"
      ]
     },
     "execution_count": 132,
     "metadata": {},
     "output_type": "execute_result"
    }
   ],
   "source": [
    "submain(0.5,0.5)"
   ]
  },
  {
   "cell_type": "code",
   "execution_count": null,
   "metadata": {},
   "outputs": [],
   "source": []
  }
 ],
 "metadata": {
  "kernelspec": {
   "display_name": "Julia 1.5.2",
   "language": "julia",
   "name": "julia-1.5"
  },
  "language_info": {
   "file_extension": ".jl",
   "mimetype": "application/julia",
   "name": "julia",
   "version": "1.5.2"
  }
 },
 "nbformat": 4,
 "nbformat_minor": 4
}
