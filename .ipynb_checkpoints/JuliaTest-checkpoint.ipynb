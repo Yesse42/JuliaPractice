{
 "cells": [
  {
   "cell_type": "code",
   "execution_count": 12,
   "metadata": {},
   "outputs": [],
   "source": [
    "using Distributions"
   ]
  },
  {
   "cell_type": "code",
   "execution_count": 13,
   "metadata": {},
   "outputs": [
    {
     "data": {
      "text/plain": [
       "monteCarloPi (generic function with 1 method)"
      ]
     },
     "execution_count": 13,
     "metadata": {},
     "output_type": "execute_result"
    }
   ],
   "source": [
    "function monteCarloPi(n_iter)\n",
    "    dist=Uniform(-1,1)\n",
    "    x=rand(dist,n_iter)\n",
    "    y=rand(dist,n_iter)\n",
    "    countIn=sum((x.^2+y.^2).<=1)\n",
    "    println(countIn/n_iter)\n",
    "    println(4*countIn/n_iter)\n",
    "    println(4*countIn/n_iter-π)\n",
    "end"
   ]
  },
  {
   "cell_type": "code",
   "execution_count": 14,
   "metadata": {},
   "outputs": [
    {
     "name": "stdout",
     "output_type": "stream",
     "text": [
      "0.7853815\n",
      "3.141526\n",
      "-6.665358979329739e-5\n"
     ]
    }
   ],
   "source": [
    "monteCarloPi(10^7)"
   ]
  },
  {
   "cell_type": "code",
   "execution_count": 15,
   "metadata": {},
   "outputs": [
    {
     "data": {
      "text/plain": [
       "timeIt (generic function with 1 method)"
      ]
     },
     "execution_count": 15,
     "metadata": {},
     "output_type": "execute_result"
    }
   ],
   "source": [
    "function timeIt()\n",
    "    @time begin\n",
    "        monteCarloPi(10^7)\n",
    "    end\n",
    "end"
   ]
  },
  {
   "cell_type": "code",
   "execution_count": 16,
   "metadata": {},
   "outputs": [
    {
     "name": "stdout",
     "output_type": "stream",
     "text": [
      "0.7855428\n",
      "3.1421712\n",
      "0.0005785464102068261\n",
      "  0.437824 seconds (122 allocations: 382.670 MiB, 8.08% gc time)\n"
     ]
    }
   ],
   "source": [
    "timeIt()"
   ]
  },
  {
   "cell_type": "code",
   "execution_count": null,
   "metadata": {},
   "outputs": [],
   "source": []
  }
 ],
 "metadata": {
  "kernelspec": {
   "display_name": "Julia 1.5.2",
   "language": "julia",
   "name": "julia-1.5"
  },
  "language_info": {
   "file_extension": ".jl",
   "mimetype": "application/julia",
   "name": "julia",
   "version": "1.5.2"
  }
 },
 "nbformat": 4,
 "nbformat_minor": 4
}
