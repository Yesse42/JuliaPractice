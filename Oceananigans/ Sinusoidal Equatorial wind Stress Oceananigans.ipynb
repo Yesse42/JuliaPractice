{
 "cells": [
  {
   "cell_type": "code",
   "execution_count": 23,
   "metadata": {},
   "outputs": [],
   "source": [
    "using Oceananigans\n",
    "using Oceananigans.OutputWriters, Oceananigans.Fields\n",
    "using Oceananigans.Utils:day, hour, minute, second"
   ]
  },
  {
   "cell_type": "code",
   "execution_count": 24,
   "metadata": {},
   "outputs": [
    {
     "data": {
      "text/plain": [
       "RegularCartesianGrid{Float64, Bounded, Bounded, Bounded}\n",
       "                   domain: x ∈ [-7.0e6, 7.0e6], y ∈ [-2.5e6, 2.5e6], z ∈ [-350.0, 0.0]\n",
       "                 topology: (Bounded, Bounded, Bounded)\n",
       "  resolution (Nx, Ny, Nz): (50, 25, 40)\n",
       "   halo size (Hx, Hy, Hz): (1, 1, 1)\n",
       "grid spacing (Δx, Δy, Δz): (280000.0, 200000.0, 8.75)"
      ]
     },
     "execution_count": 24,
     "metadata": {},
     "output_type": "execute_result"
    }
   ],
   "source": [
    "#grid1 = RegularCartesianGrid(size=(200, 100, 100), y=(-2500*10^3,2500*10^3), x=(-7000*10^3,7000*10^3), z=(-500,0),topology = (Bounded, Bounded, Bounded))\n",
    "grid1 = RegularCartesianGrid(size=(50, 25, 40), y=(-2500*10^3,2500*10^3), x=(-7000*10^3,7000*10^3), z=(-350,0),topology = (Bounded, Bounded, Bounded))"
   ]
  },
  {
   "cell_type": "code",
   "execution_count": 25,
   "metadata": {},
   "outputs": [
    {
     "data": {
      "text/plain": [
       "Oceananigans.FieldBoundaryConditions (NamedTuple{(:x, :y, :z)}), with boundary conditions\n",
       "├── x: CoordinateBoundaryConditions{BoundaryCondition{Value,Float64},BoundaryCondition{Value,Float64}}\n",
       "├── y: CoordinateBoundaryConditions{BoundaryCondition{Value,Float64},BoundaryCondition{Value,Float64}}\n",
       "└── z: CoordinateBoundaryConditions{BoundaryCondition{NormalFlow,Nothing},BoundaryCondition{NormalFlow,Nothing}}"
      ]
     },
     "execution_count": 25,
     "metadata": {},
     "output_type": "execute_result"
    }
   ],
   "source": [
    "@inline Usurface_wind_flux(x, y, t, u) = 1.3*1.1e-3*(((x*10^(-6)+12.0)/(19.0))*(cos(y/(2.0*6371.0e3))*(1.0+12.0tanh(sin(2*pi*t/17280000)+0.8)+0.125*randn())+u))^2/1025\n",
    "@inline Vsurface_wind_flux(x, y, t, v) = 1.3*1.1e-3*(sin(y/6371e3)*((5.0+2tanh(sin(2*pi*t/17280000)+0.6)+0.125*randn())))^2/1025\n",
    "u_wind_stress_bc = FluxBoundaryCondition(Usurface_wind_flux,field_dependencies=:u)\n",
    "v_wind_stress_bc = FluxBoundaryCondition(Vsurface_wind_flux,field_dependencies=:v)\n",
    "noslip=ValueBoundaryCondition(0.0)\n",
    "u_bcs = UVelocityBoundaryConditions(grid1, top=u_wind_stress_bc, bottom=noslip, north=noslip,south=noslip)\n",
    "v_bcs = VVelocityBoundaryConditions(grid1, bottom=noslip, top=v_wind_stress_bc,west=noslip,east=noslip)\n",
    "w_bcs = WVelocityBoundaryConditions(grid1,east=noslip,west=noslip,north=noslip,south=noslip)"
   ]
  },
  {
   "cell_type": "code",
   "execution_count": 26,
   "metadata": {},
   "outputs": [
    {
     "data": {
      "text/plain": [
       "Oceananigans.FieldBoundaryConditions (NamedTuple{(:x, :y, :z)}), with boundary conditions\n",
       "├── x: CoordinateBoundaryConditions{BoundaryCondition{Flux,Nothing},BoundaryCondition{Flux,Nothing}}\n",
       "├── y: CoordinateBoundaryConditions{BoundaryCondition{Flux,Nothing},BoundaryCondition{Flux,Nothing}}\n",
       "└── z: CoordinateBoundaryConditions{BoundaryCondition{Value,Float64},BoundaryCondition{Flux,Oceananigans.BoundaryConditions.ContinuousBoundaryFunction{Nothing,Nothing,Nothing,Nothing,typeof(tflux),Nothing,Tuple{Symbol},Nothing,Nothing}}}"
      ]
     },
     "execution_count": 26,
     "metadata": {},
     "output_type": "execute_result"
    }
   ],
   "source": [
    "@inline tflux(x,y,t,T)=-(185.0-(22.5)*(T-24.))/(4000.0*1025.0)\n",
    "t_bcs= TracerBoundaryConditions(grid1, bottom = ValueBoundaryCondition(4.0), top = FluxBoundaryCondition(tflux,field_dependencies=:T))"
   ]
  },
  {
   "cell_type": "code",
   "execution_count": 27,
   "metadata": {},
   "outputs": [
    {
     "data": {
      "text/plain": [
       "Oceananigans.FieldBoundaryConditions (NamedTuple{(:x, :y, :z)}), with boundary conditions\n",
       "├── x: CoordinateBoundaryConditions{BoundaryCondition{Flux,Nothing},BoundaryCondition{Flux,Nothing}}\n",
       "├── y: CoordinateBoundaryConditions{BoundaryCondition{Flux,Nothing},BoundaryCondition{Flux,Nothing}}\n",
       "└── z: CoordinateBoundaryConditions{BoundaryCondition{Value,Float64},BoundaryCondition{Flux,Nothing}}"
      ]
     },
     "execution_count": 27,
     "metadata": {},
     "output_type": "execute_result"
    }
   ],
   "source": [
    "s_bcs=TracerBoundaryConditions(grid1,bottom=ValueBoundaryCondition(34.5))"
   ]
  },
  {
   "cell_type": "code",
   "execution_count": 28,
   "metadata": {},
   "outputs": [
    {
     "data": {
      "text/plain": [
       "IncompressibleModel{CPU, Float64}(time = 0 seconds, iteration = 0) \n",
       "├── grid: RegularCartesianGrid{Float64, Bounded, Bounded, Bounded}(Nx=50, Ny=25, Nz=40)\n",
       "├── tracers: (:T, :S)\n",
       "├── closure: AnisotropicDiffusivity{Float64,Float64,Float64,NamedTuple{(:T, :S),Tuple{Float64,Float64}},NamedTuple{(:T, :S),Tuple{Float64,Float64}},NamedTuple{(:T, :S),Tuple{Float64,Float64}}}\n",
       "├── buoyancy: SeawaterBuoyancy{Float64,LinearEquationOfState{Float64},Nothing,Nothing}\n",
       "└── coriolis: BetaPlane{Float64}"
      ]
     },
     "execution_count": 28,
     "metadata": {},
     "output_type": "execute_result"
    }
   ],
   "source": [
    "model1=IncompressibleModel(grid=grid1,architecture = CPU(),float_type=Float64,clock = Clock(time=0.0),coriolis = BetaPlane(rotation_rate=7.292115e-5, latitude=0, radius=6371e3),\n",
    "tracers=(:T, :S),buoyancy=SeawaterBuoyancy(),closure=AnisotropicDiffusivity(νh=1e2, νz=1e-2, κh=1e2, κz=1e-5),timestepper=:RungeKutta3\n",
    ",boundary_conditions=(u=u_bcs,v=v_bcs,w=w_bcs,T=t_bcs,S=s_bcs))"
   ]
  },
  {
   "cell_type": "code",
   "execution_count": 29,
   "metadata": {},
   "outputs": [
    {
     "name": "stdout",
     "output_type": "stream",
     "text": [
      "(u = Field located at (Face, Cell, Cell)\n",
      "├── data: OffsetArrays.OffsetArray{Float64,3,Array{Float64,3}}, size: (53, 27, 42)\n",
      "├── grid: RegularCartesianGrid{Float64, Bounded, Bounded, Bounded}(Nx=50, Ny=25, Nz=40)\n",
      "└── boundary conditions: x=(west=NormalFlow, east=NormalFlow), y=(south=Value, north=Value), z=(bottom=Value, top=Flux), v = Field located at (Cell, Face, Cell)\n",
      "├── data: OffsetArrays.OffsetArray{Float64,3,Array{Float64,3}}, size: (52, 28, 42)\n",
      "├── grid: RegularCartesianGrid{Float64, Bounded, Bounded, Bounded}(Nx=50, Ny=25, Nz=40)\n",
      "└── boundary conditions: x=(west=Value, east=Value), y=(south=NormalFlow, north=NormalFlow), z=(bottom=Value, top=Flux), w = Field located at (Cell, Cell, Face)\n",
      "├── data: OffsetArrays.OffsetArray{Float64,3,Array{Float64,3}}, size: (52, 27, 43)\n",
      "├── grid: RegularCartesianGrid{Float64, Bounded, Bounded, Bounded}(Nx=50, Ny=25, Nz=40)\n",
      "└── boundary conditions: x=(west=Value, east=Value), y=(south=Value, north=Value), z=(bottom=NormalFlow, top=NormalFlow))\n",
      "(T = Field located at (Cell, Cell, Cell)\n",
      "├── data: OffsetArrays.OffsetArray{Float64,3,Array{Float64,3}}, size: (52, 27, 42)\n",
      "├── grid: RegularCartesianGrid{Float64, Bounded, Bounded, Bounded}(Nx=50, Ny=25, Nz=40)\n",
      "└── boundary conditions: x=(west=ZeroFlux, east=ZeroFlux), y=(south=ZeroFlux, north=ZeroFlux), z=(bottom=Value, top=Flux), S = Field located at (Cell, Cell, Cell)\n",
      "├── data: OffsetArrays.OffsetArray{Float64,3,Array{Float64,3}}, size: (52, 27, 42)\n",
      "├── grid: RegularCartesianGrid{Float64, Bounded, Bounded, Bounded}(Nx=50, Ny=25, Nz=40)\n",
      "└── boundary conditions: x=(west=ZeroFlux, east=ZeroFlux), y=(south=ZeroFlux, north=ZeroFlux), z=(bottom=Value, top=ZeroFlux))\n"
     ]
    }
   ],
   "source": [
    "println(model1.velocities)\n",
    "println(model1.tracers)"
   ]
  },
  {
   "cell_type": "code",
   "execution_count": 30,
   "metadata": {},
   "outputs": [],
   "source": [
    "@inline thermoc(x, y, z) = 16+11*tanh((z+70)/20)+1*randn()\n",
    "@inline sal(x, y, z) = 35-0.5*tanh((z+70)/20)+0.5*randn()\n",
    "@inline u0(x,y,z)=-0.1*tanh((z+70)/10)+0.05*randn()\n",
    "@inline vel0(x,y,z)=0.05randn()\n",
    "set!(model1,T=thermoc,S=sal,u=u0,w=vel0,v=vel0)"
   ]
  },
  {
   "cell_type": "code",
   "execution_count": 31,
   "metadata": {},
   "outputs": [
    {
     "data": {
      "text/plain": [
       "TimeStepWizard{Float64}(0.4, Inf, 2.0, 0.5, 14400.0, 0.0, 0.1)"
      ]
     },
     "execution_count": 31,
     "metadata": {},
     "output_type": "execute_result"
    }
   ],
   "source": [
    "wizard = TimeStepWizard(cfl=0.4, Δt=0.1, max_Δt=14400.)"
   ]
  },
  {
   "cell_type": "code",
   "execution_count": 32,
   "metadata": {},
   "outputs": [
    {
     "data": {
      "text/plain": [
       "JLD2OutputWriter scheduled on TimeInterval(12 hours):\n",
       "├── filepath: ./EquatorialβData.jld2\n",
       "├── 5 outputs: [\"v\", \"S\", \"w\", \"T\", \"u\"]\n",
       "├── field slicer: FieldSlicer(:, :, :, with_halos=false)\n",
       "├── array type: Array{Float32}\n",
       "├── including: [:grid, :coriolis, :buoyancy, :closure]\n",
       "└── max filesize: Inf YiB"
      ]
     },
     "execution_count": 32,
     "metadata": {},
     "output_type": "execute_result"
    }
   ],
   "source": [
    "simulation = Simulation(model1, Δt=1., stop_time=200day, iteration_interval=20)\n",
    "\n",
    "fields = Dict(\"u\" => model1.velocities.u,\"v\" => model1.velocities.v,\"w\" => model1.velocities.w, \"T\" => model1.tracers.T, \"S\"=>model1.tracers.S)\n",
    "\n",
    "# Note that model.velocities is NamedTuple\n",
    "simulation.output_writers[:fields] = JLD2OutputWriter(model1, fields,\n",
    "                                                          prefix = \"EquatorialβData\",\n",
    "                                                          schedule = TimeInterval(12hour))"
   ]
  },
  {
   "cell_type": "code",
   "execution_count": null,
   "metadata": {},
   "outputs": [],
   "source": [
    "run!(simulation)"
   ]
  }
 ],
 "metadata": {
  "kernelspec": {
   "display_name": "Julia 1.5.2",
   "language": "julia",
   "name": "julia-1.5"
  },
  "language_info": {
   "file_extension": ".jl",
   "mimetype": "application/julia",
   "name": "julia",
   "version": "1.5.2"
  }
 },
 "nbformat": 4,
 "nbformat_minor": 4
}
